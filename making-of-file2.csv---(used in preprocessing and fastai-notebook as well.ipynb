{
 "cells": [
  {
   "cell_type": "code",
   "execution_count": 1,
   "metadata": {},
   "outputs": [],
   "source": [
    "import glob\n",
    "import shutil\n",
    "import os\n",
    "import matplotlib.pyplot as plt\n",
    "import pandas as pd\n",
    "import numpy as np"
   ]
  },
  {
   "cell_type": "code",
   "execution_count": 2,
   "metadata": {},
   "outputs": [],
   "source": [
    "files=glob.glob(r'/home/uzair/Downloads/data/plant-pathology-2020-fgvc7/*')"
   ]
  },
  {
   "cell_type": "code",
   "execution_count": 4,
   "metadata": {},
   "outputs": [
    {
     "data": {
      "text/plain": [
       "['/home/uzair/Downloads/data/plant-pathology-2020-fgvc7/test_images',\n",
       " '/home/uzair/Downloads/data/plant-pathology-2020-fgvc7/sample_submission.csv',\n",
       " '/home/uzair/Downloads/data/plant-pathology-2020-fgvc7/test.csv',\n",
       " '/home/uzair/Downloads/data/plant-pathology-2020-fgvc7/plant_competition_version1.ipynb',\n",
       " '/home/uzair/Downloads/data/plant-pathology-2020-fgvc7/images',\n",
       " '/home/uzair/Downloads/data/plant-pathology-2020-fgvc7/file2.csv',\n",
       " '/home/uzair/Downloads/data/plant-pathology-2020-fgvc7/models',\n",
       " '/home/uzair/Downloads/data/plant-pathology-2020-fgvc7/train.csv',\n",
       " '/home/uzair/Downloads/data/plant-pathology-2020-fgvc7/export.pkl']"
      ]
     },
     "execution_count": 4,
     "metadata": {},
     "output_type": "execute_result"
    }
   ],
   "source": [
    "files"
   ]
  },
  {
   "cell_type": "code",
   "execution_count": 6,
   "metadata": {},
   "outputs": [],
   "source": [
    "my_labels=pd.read_csv(files[7])"
   ]
  },
  {
   "cell_type": "code",
   "execution_count": 7,
   "metadata": {},
   "outputs": [
    {
     "data": {
      "text/plain": [
       "(1821, 5)"
      ]
     },
     "execution_count": 7,
     "metadata": {},
     "output_type": "execute_result"
    }
   ],
   "source": [
    "my_labels.shape"
   ]
  },
  {
   "cell_type": "code",
   "execution_count": 8,
   "metadata": {},
   "outputs": [
    {
     "data": {
      "text/plain": [
       "array([['Train_0', 0, 0, 0, 1],\n",
       "       ['Train_1', 0, 1, 0, 0],\n",
       "       ['Train_2', 1, 0, 0, 0],\n",
       "       ...,\n",
       "       ['Train_1818', 1, 0, 0, 0],\n",
       "       ['Train_1819', 0, 0, 1, 0],\n",
       "       ['Train_1820', 0, 0, 0, 1]], dtype=object)"
      ]
     },
     "execution_count": 8,
     "metadata": {},
     "output_type": "execute_result"
    }
   ],
   "source": [
    "my_array=np.array(my_labels)\n",
    "my_array"
   ]
  },
  {
   "cell_type": "code",
   "execution_count": null,
   "metadata": {},
   "outputs": [],
   "source": [
    "extracted_labels=[]\n",
    "labels_list=['garbage','healthy','multiple_diseases','rust','scab']"
   ]
  },
  {
   "cell_type": "code",
   "execution_count": null,
   "metadata": {},
   "outputs": [],
   "source": [
    "for i in my_array:\n",
    "    index=np.array(np.where(i==1)).item()\n",
    "    extracted_labels.append(labels_list[index])\n",
    "my_labels['labels']=extracted_labels    \n",
    "my_labels  "
   ]
  },
  {
   "cell_type": "code",
   "execution_count": null,
   "metadata": {},
   "outputs": [],
   "source": [
    "my_labels.to_csv('file2.csv', header=False, index=False) "
   ]
  }
 ],
 "metadata": {
  "kernelspec": {
   "display_name": "Python 3",
   "language": "python",
   "name": "python3"
  },
  "language_info": {
   "codemirror_mode": {
    "name": "ipython",
    "version": 3
   },
   "file_extension": ".py",
   "mimetype": "text/x-python",
   "name": "python",
   "nbconvert_exporter": "python",
   "pygments_lexer": "ipython3",
   "version": "3.7.3"
  }
 },
 "nbformat": 4,
 "nbformat_minor": 2
}
