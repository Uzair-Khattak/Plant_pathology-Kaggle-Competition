{
 "cells": [
  {
   "cell_type": "code",
   "execution_count": 1,
   "metadata": {},
   "outputs": [],
   "source": [
    "import numpy as np\n",
    "import os\n",
    "import pandas as pd\n",
    "import matplotlib.pyplot as plt\n",
    "import shutil\n",
    "import glob"
   ]
  },
  {
   "cell_type": "code",
   "execution_count": 2,
   "metadata": {},
   "outputs": [],
   "source": [
    "my_path=r\"F:\\plant-pathology-2020-fgvc7/*\"\n"
   ]
  },
  {
   "cell_type": "code",
   "execution_count": 3,
   "metadata": {},
   "outputs": [],
   "source": [
    "my_list=glob.glob(my_path)"
   ]
  },
  {
   "cell_type": "code",
   "execution_count": 4,
   "metadata": {},
   "outputs": [
    {
     "data": {
      "text/plain": [
       "['F:\\\\plant-pathology-2020-fgvc7\\\\file2.csv',\n",
       " 'F:\\\\plant-pathology-2020-fgvc7\\\\images',\n",
       " 'F:\\\\plant-pathology-2020-fgvc7\\\\models',\n",
       " 'F:\\\\plant-pathology-2020-fgvc7\\\\plant_competition_version1.ipynb',\n",
       " 'F:\\\\plant-pathology-2020-fgvc7\\\\sample_submission.csv',\n",
       " 'F:\\\\plant-pathology-2020-fgvc7\\\\test.csv',\n",
       " 'F:\\\\plant-pathology-2020-fgvc7\\\\train.csv']"
      ]
     },
     "execution_count": 4,
     "metadata": {},
     "output_type": "execute_result"
    }
   ],
   "source": [
    "my_list"
   ]
  },
  {
   "cell_type": "code",
   "execution_count": 17,
   "metadata": {},
   "outputs": [],
   "source": [
    "my_labels=pd.read_csv(my_list[0],header=None)"
   ]
  },
  {
   "cell_type": "code",
   "execution_count": 18,
   "metadata": {},
   "outputs": [],
   "source": [
    "my_array=np.array(my_labels)"
   ]
  },
  {
   "cell_type": "code",
   "execution_count": 21,
   "metadata": {},
   "outputs": [
    {
     "data": {
      "text/plain": [
       "array([['Train_0', 0, 0, 0, 1, 'scab'],\n",
       "       ['Train_1', 0, 1, 0, 0, 'multiple_diseases'],\n",
       "       ['Train_2', 1, 0, 0, 0, 'healthy'],\n",
       "       ...,\n",
       "       ['Train_1818', 1, 0, 0, 0, 'healthy'],\n",
       "       ['Train_1819', 0, 0, 1, 0, 'rust'],\n",
       "       ['Train_1820', 0, 0, 0, 1, 'scab']], dtype=object)"
      ]
     },
     "execution_count": 21,
     "metadata": {},
     "output_type": "execute_result"
    }
   ],
   "source": [
    "my_array"
   ]
  },
  {
   "cell_type": "code",
   "execution_count": null,
   "metadata": {},
   "outputs": [],
   "source": [
    "labels_list=['garbage','healthy','multiple_diseases','rust','scab']\n",
    "os.mkdir('F:\\\\plant-pathology-2020-fgvc7\\\\organized_data\\\\')\n",
    "path='F:\\\\plant-pathology-2020-fgvc7\\\\organized_data\\\\'"
   ]
  },
  {
   "cell_type": "code",
   "execution_count": 14,
   "metadata": {},
   "outputs": [],
   "source": [
    "for i in range((len(labels_list)-1)):\n",
    "    os.mkdir(path+labels_list[i+1] )"
   ]
  },
  {
   "cell_type": "code",
   "execution_count": 28,
   "metadata": {},
   "outputs": [],
   "source": [
    "src=my_list[1];my_list[1]\n",
    "dst=path\n",
    "for i in (my_array):\n",
    "    label=i[5]\n",
    "    shutil.copy(src=src+'\\\\'+i[0]+'.jpg',dst=path+label+'\\\\')\n",
    "    "
   ]
  },
  {
   "cell_type": "code",
   "execution_count": 25,
   "metadata": {},
   "outputs": [],
   "source": [
    "shutil.copy??"
   ]
  },
  {
   "cell_type": "code",
   "execution_count": 14,
   "metadata": {},
   "outputs": [
    {
     "name": "stdout",
     "output_type": "stream",
     "text": [
      "Initialised with 516 image(s) found.\n",
      "Output directory set to F:\\plant-pathology-2020-fgvc7\\organized_data\\train\\healthy\\\\output."
     ]
    }
   ],
   "source": [
    "#augmentation of data\n",
    "import Augmentor\n",
    "#do this for all the labels\n",
    "p = Augmentor.Pipeline(r'F:\\plant-pathology-2020-fgvc7\\organized_data\\train\\healthy\\\\')"
   ]
  },
  {
   "cell_type": "code",
   "execution_count": 15,
   "metadata": {},
   "outputs": [],
   "source": [
    "p.rotate(probability=0.7, max_left_rotation=10, max_right_rotation=10)\n",
    "# p.zoom(probability=0.3, min_factor=1.1, max_factor=1.5)\n",
    "p.flip_left_right(probability=0.4)\n",
    "p.flip_top_bottom(probability=0.4)\n",
    "# p.crop_centre(probability=0.5,percentage_area=0.7)"
   ]
  },
  {
   "cell_type": "code",
   "execution_count": 16,
   "metadata": {
    "scrolled": true
   },
   "outputs": [
    {
     "name": "stderr",
     "output_type": "stream",
     "text": [
      "Processing <PIL.Image.Image image mode=RGB size=2048x1365 at 0x1A937ECCA20>: 100%|█| 1000/1000 [01:12<00:00, 13.87 Samples/s]                 \n"
     ]
    }
   ],
   "source": [
    "p.sample(1000)"
   ]
  },
  {
   "cell_type": "code",
   "execution_count": 5,
   "metadata": {},
   "outputs": [],
   "source": [
    "p.flip_left_right??"
   ]
  },
  {
   "cell_type": "code",
   "execution_count": 4,
   "metadata": {},
   "outputs": [],
   "source": [
    "p.flip_top_bottom\n",
    "p.rotate??"
   ]
  },
  {
   "cell_type": "code",
   "execution_count": null,
   "metadata": {},
   "outputs": [],
   "source": []
  }
 ],
 "metadata": {
  "kernelspec": {
   "display_name": "Python 3",
   "language": "python",
   "name": "python3"
  },
  "language_info": {
   "codemirror_mode": {
    "name": "ipython",
    "version": 3
   },
   "file_extension": ".py",
   "mimetype": "text/x-python",
   "name": "python",
   "nbconvert_exporter": "python",
   "pygments_lexer": "ipython3",
   "version": "3.7.3"
  }
 },
 "nbformat": 4,
 "nbformat_minor": 2
}
